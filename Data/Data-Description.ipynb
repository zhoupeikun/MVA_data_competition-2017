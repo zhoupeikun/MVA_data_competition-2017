{
 "cells": [
  {
   "cell_type": "code",
   "execution_count": 1,
   "metadata": {
    "collapsed": true
   },
   "outputs": [],
   "source": [
    "import pandas as pd"
   ]
  },
  {
   "cell_type": "code",
   "execution_count": 2,
   "metadata": {
    "collapsed": true
   },
   "outputs": [],
   "source": [
    "training = pd.read_csv('training_set.csv', sep=',', header=0)"
   ]
  },
  {
   "cell_type": "code",
   "execution_count": 24,
   "metadata": {
    "collapsed": false
   },
   "outputs": [
    {
     "data": {
      "text/html": [
       "<div>\n",
       "<table border=\"1\" class=\"dataframe\">\n",
       "  <thead>\n",
       "    <tr style=\"text-align: right;\">\n",
       "      <th></th>\n",
       "      <th>sender</th>\n",
       "      <th>mids</th>\n",
       "    </tr>\n",
       "  </thead>\n",
       "  <tbody>\n",
       "    <tr>\n",
       "      <th>0</th>\n",
       "      <td>karen.buckley@enron.com</td>\n",
       "      <td>158713 158697 200301 158679 278595 298162 2002...</td>\n",
       "    </tr>\n",
       "    <tr>\n",
       "      <th>1</th>\n",
       "      <td>amr.ibrahim@enron.com</td>\n",
       "      <td>215241 3437 215640 3506 191790 3517 3520 3562 ...</td>\n",
       "    </tr>\n",
       "    <tr>\n",
       "      <th>2</th>\n",
       "      <td>andrea.ring@enron.com</td>\n",
       "      <td>270705 270706 270707 270708 270709 270710 2707...</td>\n",
       "    </tr>\n",
       "    <tr>\n",
       "      <th>3</th>\n",
       "      <td>sylvia.hu@enron.com</td>\n",
       "      <td>111444 111422 183084 111412 111347 110883 1105...</td>\n",
       "    </tr>\n",
       "    <tr>\n",
       "      <th>4</th>\n",
       "      <td>phillip.platter@enron.com</td>\n",
       "      <td>327074 327384 327385 264443 274124 274125 2741...</td>\n",
       "    </tr>\n",
       "  </tbody>\n",
       "</table>\n",
       "</div>"
      ],
      "text/plain": [
       "                      sender  \\\n",
       "0    karen.buckley@enron.com   \n",
       "1      amr.ibrahim@enron.com   \n",
       "2      andrea.ring@enron.com   \n",
       "3        sylvia.hu@enron.com   \n",
       "4  phillip.platter@enron.com   \n",
       "\n",
       "                                                mids  \n",
       "0  158713 158697 200301 158679 278595 298162 2002...  \n",
       "1  215241 3437 215640 3506 191790 3517 3520 3562 ...  \n",
       "2  270705 270706 270707 270708 270709 270710 2707...  \n",
       "3  111444 111422 183084 111412 111347 110883 1105...  \n",
       "4  327074 327384 327385 264443 274124 274125 2741...  "
      ]
     },
     "execution_count": 24,
     "metadata": {},
     "output_type": "execute_result"
    }
   ],
   "source": [
    "training.head()"
   ]
  },
  {
   "cell_type": "code",
   "execution_count": 25,
   "metadata": {
    "collapsed": false
   },
   "outputs": [
    {
     "data": {
      "text/html": [
       "<div>\n",
       "<table border=\"1\" class=\"dataframe\">\n",
       "  <thead>\n",
       "    <tr style=\"text-align: right;\">\n",
       "      <th></th>\n",
       "      <th>sender</th>\n",
       "      <th>mids</th>\n",
       "    </tr>\n",
       "  </thead>\n",
       "  <tbody>\n",
       "    <tr>\n",
       "      <th>120</th>\n",
       "      <td>c..giron@enron.com</td>\n",
       "      <td>333191 333192 333193 333194 333195 333196 3331...</td>\n",
       "    </tr>\n",
       "    <tr>\n",
       "      <th>121</th>\n",
       "      <td>barry.tycholiz@enron.com</td>\n",
       "      <td>266107 248346 248348 248343 248345 248341 8282...</td>\n",
       "    </tr>\n",
       "    <tr>\n",
       "      <th>122</th>\n",
       "      <td>amy.fitzpatrick@enron.com</td>\n",
       "      <td>322816 179 326870 326874 326878 326879 261019 ...</td>\n",
       "    </tr>\n",
       "    <tr>\n",
       "      <th>123</th>\n",
       "      <td>c..williams@enron.com</td>\n",
       "      <td>232816 232807 33953 33945 33951 33937 33922 33...</td>\n",
       "    </tr>\n",
       "    <tr>\n",
       "      <th>124</th>\n",
       "      <td>enron_update@concureworkplace.com</td>\n",
       "      <td>47361 47362 47363 45909 82030 45893 172644 172...</td>\n",
       "    </tr>\n",
       "  </tbody>\n",
       "</table>\n",
       "</div>"
      ],
      "text/plain": [
       "                                sender  \\\n",
       "120                 c..giron@enron.com   \n",
       "121           barry.tycholiz@enron.com   \n",
       "122          amy.fitzpatrick@enron.com   \n",
       "123              c..williams@enron.com   \n",
       "124  enron_update@concureworkplace.com   \n",
       "\n",
       "                                                  mids  \n",
       "120  333191 333192 333193 333194 333195 333196 3331...  \n",
       "121  266107 248346 248348 248343 248345 248341 8282...  \n",
       "122  322816 179 326870 326874 326878 326879 261019 ...  \n",
       "123  232816 232807 33953 33945 33951 33937 33922 33...  \n",
       "124  47361 47362 47363 45909 82030 45893 172644 172...  "
      ]
     },
     "execution_count": 25,
     "metadata": {},
     "output_type": "execute_result"
    }
   ],
   "source": [
    "training.tail()"
   ]
  },
  {
   "cell_type": "code",
   "execution_count": 22,
   "metadata": {
    "collapsed": false
   },
   "outputs": [
    {
     "data": {
      "text/plain": [
       "RangeIndex(start=0, stop=125, step=1)"
      ]
     },
     "execution_count": 22,
     "metadata": {},
     "output_type": "execute_result"
    }
   ],
   "source": [
    "training.index"
   ]
  },
  {
   "cell_type": "code",
   "execution_count": 23,
   "metadata": {
    "collapsed": false
   },
   "outputs": [
    {
     "data": {
      "text/plain": [
       "<pandas.core.indexing._IXIndexer at 0x10cc098d0>"
      ]
     },
     "execution_count": 23,
     "metadata": {},
     "output_type": "execute_result"
    }
   ],
   "source": [
    "training.ix"
   ]
  },
  {
   "cell_type": "code",
   "execution_count": 27,
   "metadata": {
    "collapsed": false
   },
   "outputs": [
    {
     "data": {
      "text/plain": [
       "sender    125\n",
       "mids      125\n",
       "dtype: int64"
      ]
     },
     "execution_count": 27,
     "metadata": {},
     "output_type": "execute_result"
    }
   ],
   "source": [
    "training.count()"
   ]
  },
  {
   "cell_type": "code",
   "execution_count": 28,
   "metadata": {
    "collapsed": false
   },
   "outputs": [
    {
     "data": {
      "text/plain": [
       "Series([], dtype: float64)"
      ]
     },
     "execution_count": 28,
     "metadata": {},
     "output_type": "execute_result"
    }
   ],
   "source": [
    "training.mean()"
   ]
  },
  {
   "cell_type": "code",
   "execution_count": 29,
   "metadata": {
    "collapsed": false
   },
   "outputs": [
    {
     "data": {
      "text/plain": [
       "sender                              karen.buckley@enron.com\n",
       "mids      158713 158697 200301 158679 278595 298162 2002...\n",
       "Name: 0, dtype: object"
      ]
     },
     "execution_count": 29,
     "metadata": {},
     "output_type": "execute_result"
    }
   ],
   "source": [
    "training.ix[0]"
   ]
  },
  {
   "cell_type": "code",
   "execution_count": 30,
   "metadata": {
    "collapsed": false
   },
   "outputs": [
    {
     "data": {
      "text/plain": [
       "sender                                amr.ibrahim@enron.com\n",
       "mids      215241 3437 215640 3506 191790 3517 3520 3562 ...\n",
       "Name: 1, dtype: object"
      ]
     },
     "execution_count": 30,
     "metadata": {},
     "output_type": "execute_result"
    }
   ],
   "source": [
    "training.ix[1]"
   ]
  },
  {
   "cell_type": "code",
   "execution_count": 31,
   "metadata": {
    "collapsed": true
   },
   "outputs": [],
   "source": [
    "training_info = pd.read_csv('training_info.csv', sep=',', header=0)"
   ]
  },
  {
   "cell_type": "code",
   "execution_count": 32,
   "metadata": {
    "collapsed": false
   },
   "outputs": [
    {
     "data": {
      "text/html": [
       "<div>\n",
       "<table border=\"1\" class=\"dataframe\">\n",
       "  <thead>\n",
       "    <tr style=\"text-align: right;\">\n",
       "      <th></th>\n",
       "      <th>mid</th>\n",
       "      <th>date</th>\n",
       "      <th>body</th>\n",
       "      <th>recipients</th>\n",
       "    </tr>\n",
       "  </thead>\n",
       "  <tbody>\n",
       "    <tr>\n",
       "      <th>0</th>\n",
       "      <td>60</td>\n",
       "      <td>2000-07-25 08:14:00</td>\n",
       "      <td>Legal has been assessing the risks of doing bl...</td>\n",
       "      <td>robert.badeer@enron.com murray.o neil@enron.co...</td>\n",
       "    </tr>\n",
       "    <tr>\n",
       "      <th>1</th>\n",
       "      <td>66</td>\n",
       "      <td>2000-08-03 02:56:00</td>\n",
       "      <td>Attached is a spreadsheet to estimate export f...</td>\n",
       "      <td>kim.ward@enron.com robert.badeer@enron.com mur...</td>\n",
       "    </tr>\n",
       "    <tr>\n",
       "      <th>2</th>\n",
       "      <td>74</td>\n",
       "      <td>2000-08-15 05:37:00</td>\n",
       "      <td>Kevin/Bob: Here is a quick rundown on the cons...</td>\n",
       "      <td>robert.badeer@enron.com john.massey@enron.com ...</td>\n",
       "    </tr>\n",
       "    <tr>\n",
       "      <th>3</th>\n",
       "      <td>80</td>\n",
       "      <td>2000-08-20 14:12:00</td>\n",
       "      <td>check this out and let everyone know what s up...</td>\n",
       "      <td>robert.badeer@enron.com jeff.richter@enron.com</td>\n",
       "    </tr>\n",
       "    <tr>\n",
       "      <th>4</th>\n",
       "      <td>83</td>\n",
       "      <td>2000-08-22 08:17:00</td>\n",
       "      <td>Further to your letter to us (addressed to Mr....</td>\n",
       "      <td>pgillman@schiffhardin.com kamarlantes@calpx.co...</td>\n",
       "    </tr>\n",
       "    <tr>\n",
       "      <th>5</th>\n",
       "      <td>105</td>\n",
       "      <td>2000-08-24 11:42:00</td>\n",
       "      <td>The new version of the EnronOnline website is ...</td>\n",
       "      <td>dave.samuels@enron.com andy.zipper@enron.com l...</td>\n",
       "    </tr>\n",
       "    <tr>\n",
       "      <th>6</th>\n",
       "      <td>132</td>\n",
       "      <td>2000-08-27 23:11:00</td>\n",
       "      <td>Check this out.  I think that we need to be si...</td>\n",
       "      <td>robert.badeer@enron.com greg.wolfe@enron.com l...</td>\n",
       "    </tr>\n",
       "    <tr>\n",
       "      <th>7</th>\n",
       "      <td>136</td>\n",
       "      <td>2000-08-28 02:50:00</td>\n",
       "      <td>We have had some confusion recently with respe...</td>\n",
       "      <td>robert.badeer@enron.com m..forney@enron.com ti...</td>\n",
       "    </tr>\n",
       "    <tr>\n",
       "      <th>8</th>\n",
       "      <td>144</td>\n",
       "      <td>2000-08-28 08:15:00</td>\n",
       "      <td>I will be traveling to Calgary on Tuesday and ...</td>\n",
       "      <td>robert.badeer@enron.com murray.o neil@enron.co...</td>\n",
       "    </tr>\n",
       "    <tr>\n",
       "      <th>9</th>\n",
       "      <td>167</td>\n",
       "      <td>2000-08-29 11:18:00</td>\n",
       "      <td>Please note that the EnronOnline Phase 2 train...</td>\n",
       "      <td>erik.simpson@enron.com paul.racicot@enron.com ...</td>\n",
       "    </tr>\n",
       "    <tr>\n",
       "      <th>10</th>\n",
       "      <td>179</td>\n",
       "      <td>2000-08-22 01:06:00</td>\n",
       "      <td>Recently, there have been several questions re...</td>\n",
       "      <td>portland.desk@enron.com</td>\n",
       "    </tr>\n",
       "    <tr>\n",
       "      <th>11</th>\n",
       "      <td>466</td>\n",
       "      <td>2000-08-14 23:23:00</td>\n",
       "      <td>Please see the attached.  Christian, could you...</td>\n",
       "      <td>robert.badeer@enron.com christian.yoder@enron.com</td>\n",
       "    </tr>\n",
       "    <tr>\n",
       "      <th>12</th>\n",
       "      <td>510</td>\n",
       "      <td>2000-07-31 23:32:00</td>\n",
       "      <td>i would categorize things in the following man...</td>\n",
       "      <td>robert.badeer@enron.com jeff.dasovich@enron.co...</td>\n",
       "    </tr>\n",
       "    <tr>\n",
       "      <th>13</th>\n",
       "      <td>514</td>\n",
       "      <td>2000-08-08 02:51:00</td>\n",
       "      <td>put this into the congestion redesign file if ...</td>\n",
       "      <td>robert.badeer@enron.com</td>\n",
       "    </tr>\n",
       "    <tr>\n",
       "      <th>14</th>\n",
       "      <td>876</td>\n",
       "      <td>2001-09-28 14:40:39</td>\n",
       "      <td>Alaska Producers Say Gas Pipeline Would Be Too...</td>\n",
       "      <td>stephen.dowd@enron.com kevin.hyatt@enron.com m...</td>\n",
       "    </tr>\n",
       "    <tr>\n",
       "      <th>15</th>\n",
       "      <td>877</td>\n",
       "      <td>2001-07-27 14:32:59</td>\n",
       "      <td>Canadian Arctic Exploration Moves Full Steam A...</td>\n",
       "      <td>stephen.dowd@enron.com kevin.hyatt@enron.com g...</td>\n",
       "    </tr>\n",
       "    <tr>\n",
       "      <th>16</th>\n",
       "      <td>878</td>\n",
       "      <td>2001-07-20 11:52:09</td>\n",
       "      <td>Producers Indicate North Slope s Beaufort Rout...</td>\n",
       "      <td>michael.ratner@enron.com kevin.hyatt@enron.com...</td>\n",
       "    </tr>\n",
       "    <tr>\n",
       "      <th>17</th>\n",
       "      <td>879</td>\n",
       "      <td>2001-07-13 07:59:42</td>\n",
       "      <td>CERA Analyst Gives Alaska Gas Pipe 60% Chance ...</td>\n",
       "      <td>michael.ratner@enron.com kevin.hyatt@enron.com...</td>\n",
       "    </tr>\n",
       "    <tr>\n",
       "      <th>18</th>\n",
       "      <td>880</td>\n",
       "      <td>2001-07-16 08:02:27</td>\n",
       "      <td>Foothills CEOs Says Canada to Gain With Alaska...</td>\n",
       "      <td>michael.ratner@enron.com kevin.hyatt@enron.com...</td>\n",
       "    </tr>\n",
       "    <tr>\n",
       "      <th>19</th>\n",
       "      <td>881</td>\n",
       "      <td>2001-07-12 11:53:21</td>\n",
       "      <td>Eric,FYI--One of the Iowa congresswomen told u...</td>\n",
       "      <td>michael.ratner@enron.com kevin.hyatt@enron.com...</td>\n",
       "    </tr>\n",
       "    <tr>\n",
       "      <th>20</th>\n",
       "      <td>883</td>\n",
       "      <td>2001-07-02 08:44:21</td>\n",
       "      <td>Note:  I had been sending the Arctic market in...</td>\n",
       "      <td>michael.ratner@enron.com kevin.hyatt@enron.com...</td>\n",
       "    </tr>\n",
       "    <tr>\n",
       "      <th>21</th>\n",
       "      <td>947</td>\n",
       "      <td>2001-09-28 09:10:54</td>\n",
       "      <td>Jon, I was referring to the actual monument si...</td>\n",
       "      <td>kevin.hyatt@enron.com jon.schmidt@enron.com al...</td>\n",
       "    </tr>\n",
       "    <tr>\n",
       "      <th>22</th>\n",
       "      <td>949</td>\n",
       "      <td>2001-09-26 09:51:12</td>\n",
       "      <td>Scott, I shold probably clearify something.  T...</td>\n",
       "      <td>kevin.hyatt@enron.com patti@enron.com jon.schm...</td>\n",
       "    </tr>\n",
       "    <tr>\n",
       "      <th>23</th>\n",
       "      <td>1018</td>\n",
       "      <td>2001-07-31 08:21:01</td>\n",
       "      <td>Kevin, I apologize for not getting back to you...</td>\n",
       "      <td>john.shafer@enron.com kevin.hyatt@enron.com</td>\n",
       "    </tr>\n",
       "    <tr>\n",
       "      <th>24</th>\n",
       "      <td>1019</td>\n",
       "      <td>2001-07-31 08:27:11</td>\n",
       "      <td>Kevin, as promised, attached is the informatio...</td>\n",
       "      <td>kevin.hyatt@enron.com</td>\n",
       "    </tr>\n",
       "    <tr>\n",
       "      <th>25</th>\n",
       "      <td>1028</td>\n",
       "      <td>2001-08-13 08:57:43</td>\n",
       "      <td>Regent Energy in Pact to Develop 500 MW Plant ...</td>\n",
       "      <td>stephen.dowd@enron.com kevin.hyatt@enron.com t...</td>\n",
       "    </tr>\n",
       "    <tr>\n",
       "      <th>26</th>\n",
       "      <td>1029</td>\n",
       "      <td>2001-06-25 09:20:03</td>\n",
       "      <td>&lt;Embedded Microsoft Graph 2000 Chart&gt;</td>\n",
       "      <td>kevin.hyatt@enron.com</td>\n",
       "    </tr>\n",
       "    <tr>\n",
       "      <th>27</th>\n",
       "      <td>1033</td>\n",
       "      <td>2001-07-26 15:21:03</td>\n",
       "      <td>Kevin,Attached are electricity price discovery...</td>\n",
       "      <td>kevin.hyatt@enron.com</td>\n",
       "    </tr>\n",
       "    <tr>\n",
       "      <th>28</th>\n",
       "      <td>1034</td>\n",
       "      <td>2001-07-24 09:13:17</td>\n",
       "      <td>Kevin,Attached are two files with 10 years of ...</td>\n",
       "      <td>kevin.hyatt@enron.com</td>\n",
       "    </tr>\n",
       "    <tr>\n",
       "      <th>29</th>\n",
       "      <td>1081</td>\n",
       "      <td>2001-02-23 15:09:58</td>\n",
       "      <td>Here is a revised version of the Red Rock agre...</td>\n",
       "      <td>tk.lohman@enron.com kevin.hyatt@enron.com mich...</td>\n",
       "    </tr>\n",
       "    <tr>\n",
       "      <th>...</th>\n",
       "      <td>...</td>\n",
       "      <td>...</td>\n",
       "      <td>...</td>\n",
       "      <td>...</td>\n",
       "    </tr>\n",
       "    <tr>\n",
       "      <th>43583</th>\n",
       "      <td>402847</td>\n",
       "      <td>2001-08-27 13:38:43</td>\n",
       "      <td>X-FileName: As most people are aware, there ar...</td>\n",
       "      <td>dan.dietrich@enron.com center.dl-portland@enro...</td>\n",
       "    </tr>\n",
       "    <tr>\n",
       "      <th>43584</th>\n",
       "      <td>402848</td>\n",
       "      <td>2001-09-27 11:40:34</td>\n",
       "      <td>X-FileName: fyi-----Original Message-----From:...</td>\n",
       "      <td>cara.semperger@enron.com tom.alonso@enron.com ...</td>\n",
       "    </tr>\n",
       "    <tr>\n",
       "      <th>43585</th>\n",
       "      <td>402849</td>\n",
       "      <td>2001-10-02 20:16:24</td>\n",
       "      <td>X-FileName: This e-mail is to confirm what we ...</td>\n",
       "      <td>robert.badeer@enron.com m..driscoll@enron.com ...</td>\n",
       "    </tr>\n",
       "    <tr>\n",
       "      <th>43586</th>\n",
       "      <td>402882</td>\n",
       "      <td>2001-05-07 09:17:00</td>\n",
       "      <td>__________________I have discussed with Doug G...</td>\n",
       "      <td>sharen.cason@enron.com doug.gilbert-smith@enro...</td>\n",
       "    </tr>\n",
       "    <tr>\n",
       "      <th>43587</th>\n",
       "      <td>402884</td>\n",
       "      <td>2001-05-07 11:10:00</td>\n",
       "      <td>Doug -- Following up on our discussion, attach...</td>\n",
       "      <td>doug.gilbert-smith@enron.com smith.day@enron.c...</td>\n",
       "    </tr>\n",
       "    <tr>\n",
       "      <th>43588</th>\n",
       "      <td>402901</td>\n",
       "      <td>2001-05-10 11:12:00</td>\n",
       "      <td>Attached is a draft response to the Frontera N...</td>\n",
       "      <td>clint.dean@enron.com elizabeth.sager@enron.com...</td>\n",
       "    </tr>\n",
       "    <tr>\n",
       "      <th>43589</th>\n",
       "      <td>402904</td>\n",
       "      <td>2001-05-11 03:40:00</td>\n",
       "      <td>Attached are new draft responses to the Fronte...</td>\n",
       "      <td>clint.dean@enron.com elizabeth.sager@enron.com...</td>\n",
       "    </tr>\n",
       "    <tr>\n",
       "      <th>43590</th>\n",
       "      <td>402956</td>\n",
       "      <td>2001-05-23 10:27:00</td>\n",
       "      <td>ERCOT Delivery Points have been set up as foll...</td>\n",
       "      <td>casey.evans@enron.com andrea.dahlke@enron.com ...</td>\n",
       "    </tr>\n",
       "    <tr>\n",
       "      <th>43591</th>\n",
       "      <td>403000</td>\n",
       "      <td>2000-12-11 09:10:00</td>\n",
       "      <td>Make sure we attend these sessions.-----------...</td>\n",
       "      <td>clint.dean@enron.com lloyd.will@enron.com smit...</td>\n",
       "    </tr>\n",
       "    <tr>\n",
       "      <th>43592</th>\n",
       "      <td>403004</td>\n",
       "      <td>2000-12-12 09:19:00</td>\n",
       "      <td>Following discussions with you and Doug, attac...</td>\n",
       "      <td>clint.dean@enron.com elizabeth.sager@enron.com...</td>\n",
       "    </tr>\n",
       "    <tr>\n",
       "      <th>43593</th>\n",
       "      <td>404136</td>\n",
       "      <td>2001-10-07 20:56:50</td>\n",
       "      <td>Hello!You have been identified by your manager...</td>\n",
       "      <td>stanley.cocke@enron.com jim.reyes@enron.com do...</td>\n",
       "    </tr>\n",
       "    <tr>\n",
       "      <th>43594</th>\n",
       "      <td>404199</td>\n",
       "      <td>2001-10-05 12:04:13</td>\n",
       "      <td>FYI. -----Original Message-----From: \\tRodrigu...</td>\n",
       "      <td>center.dl-portland@enron.com</td>\n",
       "    </tr>\n",
       "    <tr>\n",
       "      <th>43595</th>\n",
       "      <td>404220</td>\n",
       "      <td>2001-10-04 10:10:51</td>\n",
       "      <td>Howdy all!Just a reminder that Steve Swain and...</td>\n",
       "      <td>center.dl-portland@enron.com</td>\n",
       "    </tr>\n",
       "    <tr>\n",
       "      <th>43596</th>\n",
       "      <td>404231</td>\n",
       "      <td>2001-10-03 08:40:40</td>\n",
       "      <td>Bike Teams Please join us in Mt Hood 11:30 - 1...</td>\n",
       "      <td>center.dl-portland@enron.com</td>\n",
       "    </tr>\n",
       "    <tr>\n",
       "      <th>43597</th>\n",
       "      <td>404247</td>\n",
       "      <td>2001-09-29 18:55:14</td>\n",
       "      <td>CONGRATULATIONS ALL WHO PARTICIPATED IN THE SE...</td>\n",
       "      <td>center.dl-portland@enron.com</td>\n",
       "    </tr>\n",
       "    <tr>\n",
       "      <th>43598</th>\n",
       "      <td>404271</td>\n",
       "      <td>2001-09-26 10:55:42</td>\n",
       "      <td>Before I leave today, I just wanted to say wha...</td>\n",
       "      <td>center.dl-portland@enron.com</td>\n",
       "    </tr>\n",
       "    <tr>\n",
       "      <th>43599</th>\n",
       "      <td>404328</td>\n",
       "      <td>2001-09-18 11:43:17</td>\n",
       "      <td>This information was sent by Tim Belden and Ch...</td>\n",
       "      <td>center.dl-portland@enron.com</td>\n",
       "    </tr>\n",
       "    <tr>\n",
       "      <th>43600</th>\n",
       "      <td>404429</td>\n",
       "      <td>2001-10-26 11:32:23</td>\n",
       "      <td>Please note that Chris Calger is in a meeting ...</td>\n",
       "      <td>center.dl-portland@enron.com</td>\n",
       "    </tr>\n",
       "    <tr>\n",
       "      <th>43601</th>\n",
       "      <td>404436</td>\n",
       "      <td>2001-10-26 08:41:42</td>\n",
       "      <td>HR is wishing you a Happy Friday! We ve got so...</td>\n",
       "      <td>center.dl-portland@enron.com</td>\n",
       "    </tr>\n",
       "    <tr>\n",
       "      <th>43602</th>\n",
       "      <td>404466</td>\n",
       "      <td>2001-10-25 11:06:34</td>\n",
       "      <td>If you work in West Power Trading, congratulat...</td>\n",
       "      <td>john.anderson@enron.com caroline.emmert@enron....</td>\n",
       "    </tr>\n",
       "    <tr>\n",
       "      <th>43603</th>\n",
       "      <td>404468</td>\n",
       "      <td>2001-10-25 09:59:36</td>\n",
       "      <td>Hello again!You have been identified by your m...</td>\n",
       "      <td>diane.cutsforth@enron.com leaf.harasin@enron.c...</td>\n",
       "    </tr>\n",
       "    <tr>\n",
       "      <th>43604</th>\n",
       "      <td>404472</td>\n",
       "      <td>2001-10-25 07:29:18</td>\n",
       "      <td>Just a reminder about the brown bag meeting fo...</td>\n",
       "      <td>center.dl-portland@enron.com</td>\n",
       "    </tr>\n",
       "    <tr>\n",
       "      <th>43605</th>\n",
       "      <td>404558</td>\n",
       "      <td>2001-10-22 13:17:51</td>\n",
       "      <td>We are pleased to announce the arrival of Kara...</td>\n",
       "      <td>center.dl-portland@enron.com</td>\n",
       "    </tr>\n",
       "    <tr>\n",
       "      <th>43606</th>\n",
       "      <td>404562</td>\n",
       "      <td>2001-10-22 09:58:18</td>\n",
       "      <td>You are invited to attend a meeting at 3:00 p....</td>\n",
       "      <td>center.dl-portland@enron.com</td>\n",
       "    </tr>\n",
       "    <tr>\n",
       "      <th>43607</th>\n",
       "      <td>404661</td>\n",
       "      <td>2001-10-18 15:16:19</td>\n",
       "      <td>Howdy all!We currently have an opening in the ...</td>\n",
       "      <td>center.dl-portland@enron.com</td>\n",
       "    </tr>\n",
       "    <tr>\n",
       "      <th>43608</th>\n",
       "      <td>404669</td>\n",
       "      <td>2001-10-18 12:46:32</td>\n",
       "      <td>FYI--The information below is an excellent ove...</td>\n",
       "      <td>center.dl-portland@enron.com</td>\n",
       "    </tr>\n",
       "    <tr>\n",
       "      <th>43609</th>\n",
       "      <td>404761</td>\n",
       "      <td>2001-10-15 11:18:02</td>\n",
       "      <td>FERC is holding a week-long conference on Re...</td>\n",
       "      <td>center.dl-portland@enron.com</td>\n",
       "    </tr>\n",
       "    <tr>\n",
       "      <th>43610</th>\n",
       "      <td>404870</td>\n",
       "      <td>2001-10-30 18:47:35</td>\n",
       "      <td>X-FileName: During the past few days several p...</td>\n",
       "      <td>center.dl-portland@enron.com john.lavorato@enr...</td>\n",
       "    </tr>\n",
       "    <tr>\n",
       "      <th>43611</th>\n",
       "      <td>404872</td>\n",
       "      <td>2001-11-01 10:51:29</td>\n",
       "      <td>X-FileName: Enron announces $1 billion of addi...</td>\n",
       "      <td>center.dl-portland@enron.com</td>\n",
       "    </tr>\n",
       "    <tr>\n",
       "      <th>43612</th>\n",
       "      <td>404873</td>\n",
       "      <td>2001-11-01 12:02:36</td>\n",
       "      <td>X-FileName: Enron s General Counsel sent out a...</td>\n",
       "      <td>dan.dietrich@enron.com center.dl-portland@enro...</td>\n",
       "    </tr>\n",
       "  </tbody>\n",
       "</table>\n",
       "<p>43613 rows × 4 columns</p>\n",
       "</div>"
      ],
      "text/plain": [
       "          mid                 date  \\\n",
       "0          60  2000-07-25 08:14:00   \n",
       "1          66  2000-08-03 02:56:00   \n",
       "2          74  2000-08-15 05:37:00   \n",
       "3          80  2000-08-20 14:12:00   \n",
       "4          83  2000-08-22 08:17:00   \n",
       "5         105  2000-08-24 11:42:00   \n",
       "6         132  2000-08-27 23:11:00   \n",
       "7         136  2000-08-28 02:50:00   \n",
       "8         144  2000-08-28 08:15:00   \n",
       "9         167  2000-08-29 11:18:00   \n",
       "10        179  2000-08-22 01:06:00   \n",
       "11        466  2000-08-14 23:23:00   \n",
       "12        510  2000-07-31 23:32:00   \n",
       "13        514  2000-08-08 02:51:00   \n",
       "14        876  2001-09-28 14:40:39   \n",
       "15        877  2001-07-27 14:32:59   \n",
       "16        878  2001-07-20 11:52:09   \n",
       "17        879  2001-07-13 07:59:42   \n",
       "18        880  2001-07-16 08:02:27   \n",
       "19        881  2001-07-12 11:53:21   \n",
       "20        883  2001-07-02 08:44:21   \n",
       "21        947  2001-09-28 09:10:54   \n",
       "22        949  2001-09-26 09:51:12   \n",
       "23       1018  2001-07-31 08:21:01   \n",
       "24       1019  2001-07-31 08:27:11   \n",
       "25       1028  2001-08-13 08:57:43   \n",
       "26       1029  2001-06-25 09:20:03   \n",
       "27       1033  2001-07-26 15:21:03   \n",
       "28       1034  2001-07-24 09:13:17   \n",
       "29       1081  2001-02-23 15:09:58   \n",
       "...       ...                  ...   \n",
       "43583  402847  2001-08-27 13:38:43   \n",
       "43584  402848  2001-09-27 11:40:34   \n",
       "43585  402849  2001-10-02 20:16:24   \n",
       "43586  402882  2001-05-07 09:17:00   \n",
       "43587  402884  2001-05-07 11:10:00   \n",
       "43588  402901  2001-05-10 11:12:00   \n",
       "43589  402904  2001-05-11 03:40:00   \n",
       "43590  402956  2001-05-23 10:27:00   \n",
       "43591  403000  2000-12-11 09:10:00   \n",
       "43592  403004  2000-12-12 09:19:00   \n",
       "43593  404136  2001-10-07 20:56:50   \n",
       "43594  404199  2001-10-05 12:04:13   \n",
       "43595  404220  2001-10-04 10:10:51   \n",
       "43596  404231  2001-10-03 08:40:40   \n",
       "43597  404247  2001-09-29 18:55:14   \n",
       "43598  404271  2001-09-26 10:55:42   \n",
       "43599  404328  2001-09-18 11:43:17   \n",
       "43600  404429  2001-10-26 11:32:23   \n",
       "43601  404436  2001-10-26 08:41:42   \n",
       "43602  404466  2001-10-25 11:06:34   \n",
       "43603  404468  2001-10-25 09:59:36   \n",
       "43604  404472  2001-10-25 07:29:18   \n",
       "43605  404558  2001-10-22 13:17:51   \n",
       "43606  404562  2001-10-22 09:58:18   \n",
       "43607  404661  2001-10-18 15:16:19   \n",
       "43608  404669  2001-10-18 12:46:32   \n",
       "43609  404761  2001-10-15 11:18:02   \n",
       "43610  404870  2001-10-30 18:47:35   \n",
       "43611  404872  2001-11-01 10:51:29   \n",
       "43612  404873  2001-11-01 12:02:36   \n",
       "\n",
       "                                                    body  \\\n",
       "0      Legal has been assessing the risks of doing bl...   \n",
       "1      Attached is a spreadsheet to estimate export f...   \n",
       "2      Kevin/Bob: Here is a quick rundown on the cons...   \n",
       "3      check this out and let everyone know what s up...   \n",
       "4      Further to your letter to us (addressed to Mr....   \n",
       "5      The new version of the EnronOnline website is ...   \n",
       "6      Check this out.  I think that we need to be si...   \n",
       "7      We have had some confusion recently with respe...   \n",
       "8      I will be traveling to Calgary on Tuesday and ...   \n",
       "9      Please note that the EnronOnline Phase 2 train...   \n",
       "10     Recently, there have been several questions re...   \n",
       "11     Please see the attached.  Christian, could you...   \n",
       "12     i would categorize things in the following man...   \n",
       "13     put this into the congestion redesign file if ...   \n",
       "14     Alaska Producers Say Gas Pipeline Would Be Too...   \n",
       "15     Canadian Arctic Exploration Moves Full Steam A...   \n",
       "16     Producers Indicate North Slope s Beaufort Rout...   \n",
       "17     CERA Analyst Gives Alaska Gas Pipe 60% Chance ...   \n",
       "18     Foothills CEOs Says Canada to Gain With Alaska...   \n",
       "19     Eric,FYI--One of the Iowa congresswomen told u...   \n",
       "20     Note:  I had been sending the Arctic market in...   \n",
       "21     Jon, I was referring to the actual monument si...   \n",
       "22     Scott, I shold probably clearify something.  T...   \n",
       "23     Kevin, I apologize for not getting back to you...   \n",
       "24     Kevin, as promised, attached is the informatio...   \n",
       "25     Regent Energy in Pact to Develop 500 MW Plant ...   \n",
       "26                 <Embedded Microsoft Graph 2000 Chart>   \n",
       "27     Kevin,Attached are electricity price discovery...   \n",
       "28     Kevin,Attached are two files with 10 years of ...   \n",
       "29     Here is a revised version of the Red Rock agre...   \n",
       "...                                                  ...   \n",
       "43583  X-FileName: As most people are aware, there ar...   \n",
       "43584  X-FileName: fyi-----Original Message-----From:...   \n",
       "43585  X-FileName: This e-mail is to confirm what we ...   \n",
       "43586  __________________I have discussed with Doug G...   \n",
       "43587  Doug -- Following up on our discussion, attach...   \n",
       "43588  Attached is a draft response to the Frontera N...   \n",
       "43589  Attached are new draft responses to the Fronte...   \n",
       "43590  ERCOT Delivery Points have been set up as foll...   \n",
       "43591  Make sure we attend these sessions.-----------...   \n",
       "43592  Following discussions with you and Doug, attac...   \n",
       "43593  Hello!You have been identified by your manager...   \n",
       "43594  FYI. -----Original Message-----From: \\tRodrigu...   \n",
       "43595  Howdy all!Just a reminder that Steve Swain and...   \n",
       "43596  Bike Teams Please join us in Mt Hood 11:30 - 1...   \n",
       "43597  CONGRATULATIONS ALL WHO PARTICIPATED IN THE SE...   \n",
       "43598  Before I leave today, I just wanted to say wha...   \n",
       "43599  This information was sent by Tim Belden and Ch...   \n",
       "43600  Please note that Chris Calger is in a meeting ...   \n",
       "43601  HR is wishing you a Happy Friday! We ve got so...   \n",
       "43602  If you work in West Power Trading, congratulat...   \n",
       "43603  Hello again!You have been identified by your m...   \n",
       "43604  Just a reminder about the brown bag meeting fo...   \n",
       "43605  We are pleased to announce the arrival of Kara...   \n",
       "43606  You are invited to attend a meeting at 3:00 p....   \n",
       "43607  Howdy all!We currently have an opening in the ...   \n",
       "43608  FYI--The information below is an excellent ove...   \n",
       "43609    FERC is holding a week-long conference on Re...   \n",
       "43610  X-FileName: During the past few days several p...   \n",
       "43611  X-FileName: Enron announces $1 billion of addi...   \n",
       "43612  X-FileName: Enron s General Counsel sent out a...   \n",
       "\n",
       "                                              recipients  \n",
       "0      robert.badeer@enron.com murray.o neil@enron.co...  \n",
       "1      kim.ward@enron.com robert.badeer@enron.com mur...  \n",
       "2      robert.badeer@enron.com john.massey@enron.com ...  \n",
       "3         robert.badeer@enron.com jeff.richter@enron.com  \n",
       "4      pgillman@schiffhardin.com kamarlantes@calpx.co...  \n",
       "5      dave.samuels@enron.com andy.zipper@enron.com l...  \n",
       "6      robert.badeer@enron.com greg.wolfe@enron.com l...  \n",
       "7      robert.badeer@enron.com m..forney@enron.com ti...  \n",
       "8      robert.badeer@enron.com murray.o neil@enron.co...  \n",
       "9      erik.simpson@enron.com paul.racicot@enron.com ...  \n",
       "10                               portland.desk@enron.com  \n",
       "11     robert.badeer@enron.com christian.yoder@enron.com  \n",
       "12     robert.badeer@enron.com jeff.dasovich@enron.co...  \n",
       "13                               robert.badeer@enron.com  \n",
       "14     stephen.dowd@enron.com kevin.hyatt@enron.com m...  \n",
       "15     stephen.dowd@enron.com kevin.hyatt@enron.com g...  \n",
       "16     michael.ratner@enron.com kevin.hyatt@enron.com...  \n",
       "17     michael.ratner@enron.com kevin.hyatt@enron.com...  \n",
       "18     michael.ratner@enron.com kevin.hyatt@enron.com...  \n",
       "19     michael.ratner@enron.com kevin.hyatt@enron.com...  \n",
       "20     michael.ratner@enron.com kevin.hyatt@enron.com...  \n",
       "21     kevin.hyatt@enron.com jon.schmidt@enron.com al...  \n",
       "22     kevin.hyatt@enron.com patti@enron.com jon.schm...  \n",
       "23           john.shafer@enron.com kevin.hyatt@enron.com  \n",
       "24                                 kevin.hyatt@enron.com  \n",
       "25     stephen.dowd@enron.com kevin.hyatt@enron.com t...  \n",
       "26                                 kevin.hyatt@enron.com  \n",
       "27                                 kevin.hyatt@enron.com  \n",
       "28                                 kevin.hyatt@enron.com  \n",
       "29     tk.lohman@enron.com kevin.hyatt@enron.com mich...  \n",
       "...                                                  ...  \n",
       "43583  dan.dietrich@enron.com center.dl-portland@enro...  \n",
       "43584  cara.semperger@enron.com tom.alonso@enron.com ...  \n",
       "43585  robert.badeer@enron.com m..driscoll@enron.com ...  \n",
       "43586  sharen.cason@enron.com doug.gilbert-smith@enro...  \n",
       "43587  doug.gilbert-smith@enron.com smith.day@enron.c...  \n",
       "43588  clint.dean@enron.com elizabeth.sager@enron.com...  \n",
       "43589  clint.dean@enron.com elizabeth.sager@enron.com...  \n",
       "43590  casey.evans@enron.com andrea.dahlke@enron.com ...  \n",
       "43591  clint.dean@enron.com lloyd.will@enron.com smit...  \n",
       "43592  clint.dean@enron.com elizabeth.sager@enron.com...  \n",
       "43593  stanley.cocke@enron.com jim.reyes@enron.com do...  \n",
       "43594                       center.dl-portland@enron.com  \n",
       "43595                       center.dl-portland@enron.com  \n",
       "43596                       center.dl-portland@enron.com  \n",
       "43597                       center.dl-portland@enron.com  \n",
       "43598                       center.dl-portland@enron.com  \n",
       "43599                       center.dl-portland@enron.com  \n",
       "43600                       center.dl-portland@enron.com  \n",
       "43601                       center.dl-portland@enron.com  \n",
       "43602  john.anderson@enron.com caroline.emmert@enron....  \n",
       "43603  diane.cutsforth@enron.com leaf.harasin@enron.c...  \n",
       "43604                       center.dl-portland@enron.com  \n",
       "43605                       center.dl-portland@enron.com  \n",
       "43606                       center.dl-portland@enron.com  \n",
       "43607                       center.dl-portland@enron.com  \n",
       "43608                       center.dl-portland@enron.com  \n",
       "43609                       center.dl-portland@enron.com  \n",
       "43610  center.dl-portland@enron.com john.lavorato@enr...  \n",
       "43611                       center.dl-portland@enron.com  \n",
       "43612  dan.dietrich@enron.com center.dl-portland@enro...  \n",
       "\n",
       "[43613 rows x 4 columns]"
      ]
     },
     "execution_count": 32,
     "metadata": {},
     "output_type": "execute_result"
    }
   ],
   "source": [
    "training_info"
   ]
  },
  {
   "cell_type": "code",
   "execution_count": 33,
   "metadata": {
    "collapsed": false
   },
   "outputs": [
    {
     "data": {
      "text/html": [
       "<div>\n",
       "<table border=\"1\" class=\"dataframe\">\n",
       "  <thead>\n",
       "    <tr style=\"text-align: right;\">\n",
       "      <th></th>\n",
       "      <th>mid</th>\n",
       "      <th>date</th>\n",
       "      <th>body</th>\n",
       "      <th>recipients</th>\n",
       "    </tr>\n",
       "  </thead>\n",
       "  <tbody>\n",
       "    <tr>\n",
       "      <th>0</th>\n",
       "      <td>60</td>\n",
       "      <td>2000-07-25 08:14:00</td>\n",
       "      <td>Legal has been assessing the risks of doing bl...</td>\n",
       "      <td>robert.badeer@enron.com murray.o neil@enron.co...</td>\n",
       "    </tr>\n",
       "    <tr>\n",
       "      <th>1</th>\n",
       "      <td>66</td>\n",
       "      <td>2000-08-03 02:56:00</td>\n",
       "      <td>Attached is a spreadsheet to estimate export f...</td>\n",
       "      <td>kim.ward@enron.com robert.badeer@enron.com mur...</td>\n",
       "    </tr>\n",
       "    <tr>\n",
       "      <th>2</th>\n",
       "      <td>74</td>\n",
       "      <td>2000-08-15 05:37:00</td>\n",
       "      <td>Kevin/Bob: Here is a quick rundown on the cons...</td>\n",
       "      <td>robert.badeer@enron.com john.massey@enron.com ...</td>\n",
       "    </tr>\n",
       "    <tr>\n",
       "      <th>3</th>\n",
       "      <td>80</td>\n",
       "      <td>2000-08-20 14:12:00</td>\n",
       "      <td>check this out and let everyone know what s up...</td>\n",
       "      <td>robert.badeer@enron.com jeff.richter@enron.com</td>\n",
       "    </tr>\n",
       "    <tr>\n",
       "      <th>4</th>\n",
       "      <td>83</td>\n",
       "      <td>2000-08-22 08:17:00</td>\n",
       "      <td>Further to your letter to us (addressed to Mr....</td>\n",
       "      <td>pgillman@schiffhardin.com kamarlantes@calpx.co...</td>\n",
       "    </tr>\n",
       "  </tbody>\n",
       "</table>\n",
       "</div>"
      ],
      "text/plain": [
       "   mid                 date  \\\n",
       "0   60  2000-07-25 08:14:00   \n",
       "1   66  2000-08-03 02:56:00   \n",
       "2   74  2000-08-15 05:37:00   \n",
       "3   80  2000-08-20 14:12:00   \n",
       "4   83  2000-08-22 08:17:00   \n",
       "\n",
       "                                                body  \\\n",
       "0  Legal has been assessing the risks of doing bl...   \n",
       "1  Attached is a spreadsheet to estimate export f...   \n",
       "2  Kevin/Bob: Here is a quick rundown on the cons...   \n",
       "3  check this out and let everyone know what s up...   \n",
       "4  Further to your letter to us (addressed to Mr....   \n",
       "\n",
       "                                          recipients  \n",
       "0  robert.badeer@enron.com murray.o neil@enron.co...  \n",
       "1  kim.ward@enron.com robert.badeer@enron.com mur...  \n",
       "2  robert.badeer@enron.com john.massey@enron.com ...  \n",
       "3     robert.badeer@enron.com jeff.richter@enron.com  \n",
       "4  pgillman@schiffhardin.com kamarlantes@calpx.co...  "
      ]
     },
     "execution_count": 33,
     "metadata": {},
     "output_type": "execute_result"
    }
   ],
   "source": [
    "training_info.head()"
   ]
  },
  {
   "cell_type": "code",
   "execution_count": 34,
   "metadata": {
    "collapsed": false
   },
   "outputs": [
    {
     "data": {
      "text/plain": [
       "mid                                                          60\n",
       "date                                        2000-07-25 08:14:00\n",
       "body          Legal has been assessing the risks of doing bl...\n",
       "recipients    robert.badeer@enron.com murray.o neil@enron.co...\n",
       "Name: 0, dtype: object"
      ]
     },
     "execution_count": 34,
     "metadata": {},
     "output_type": "execute_result"
    }
   ],
   "source": [
    "training_info.ix[0]"
   ]
  },
  {
   "cell_type": "code",
   "execution_count": 35,
   "metadata": {
    "collapsed": false
   },
   "outputs": [
    {
     "data": {
      "text/plain": [
       "mid                                                          66\n",
       "date                                        2000-08-03 02:56:00\n",
       "body          Attached is a spreadsheet to estimate export f...\n",
       "recipients    kim.ward@enron.com robert.badeer@enron.com mur...\n",
       "Name: 1, dtype: object"
      ]
     },
     "execution_count": 35,
     "metadata": {},
     "output_type": "execute_result"
    }
   ],
   "source": [
    "training_info.ix[1]"
   ]
  },
  {
   "cell_type": "code",
   "execution_count": 36,
   "metadata": {
    "collapsed": false
   },
   "outputs": [
    {
     "data": {
      "text/plain": [
       "0            60\n",
       "1            66\n",
       "2            74\n",
       "3            80\n",
       "4            83\n",
       "5           105\n",
       "6           132\n",
       "7           136\n",
       "8           144\n",
       "9           167\n",
       "10          179\n",
       "11          466\n",
       "12          510\n",
       "13          514\n",
       "14          876\n",
       "15          877\n",
       "16          878\n",
       "17          879\n",
       "18          880\n",
       "19          881\n",
       "20          883\n",
       "21          947\n",
       "22          949\n",
       "23         1018\n",
       "24         1019\n",
       "25         1028\n",
       "26         1029\n",
       "27         1033\n",
       "28         1034\n",
       "29         1081\n",
       "          ...  \n",
       "43583    402847\n",
       "43584    402848\n",
       "43585    402849\n",
       "43586    402882\n",
       "43587    402884\n",
       "43588    402901\n",
       "43589    402904\n",
       "43590    402956\n",
       "43591    403000\n",
       "43592    403004\n",
       "43593    404136\n",
       "43594    404199\n",
       "43595    404220\n",
       "43596    404231\n",
       "43597    404247\n",
       "43598    404271\n",
       "43599    404328\n",
       "43600    404429\n",
       "43601    404436\n",
       "43602    404466\n",
       "43603    404468\n",
       "43604    404472\n",
       "43605    404558\n",
       "43606    404562\n",
       "43607    404661\n",
       "43608    404669\n",
       "43609    404761\n",
       "43610    404870\n",
       "43611    404872\n",
       "43612    404873\n",
       "Name: mid, dtype: int64"
      ]
     },
     "execution_count": 36,
     "metadata": {},
     "output_type": "execute_result"
    }
   ],
   "source": [
    "training_info['mid']"
   ]
  },
  {
   "cell_type": "code",
   "execution_count": 43,
   "metadata": {
    "collapsed": false
   },
   "outputs": [
    {
     "data": {
      "text/plain": [
       "'robert.badeer@enron.com murray.o neil@enron.com tim.belden@enron.com elizabeth.sager@enron.com carla.hoffman@enron.com jeff.richter@enron.com chris.stokley@enron.com valarie.sabo@enron.com'"
      ]
     },
     "execution_count": 43,
     "metadata": {},
     "output_type": "execute_result"
    }
   ],
   "source": [
    "training_info['recipients'][0]"
   ]
  },
  {
   "cell_type": "code",
   "execution_count": 45,
   "metadata": {
    "collapsed": false
   },
   "outputs": [
    {
     "ename": "AttributeError",
     "evalue": "'str' object has no attribute 'tolist'",
     "output_type": "error",
     "traceback": [
      "\u001b[0;31m---------------------------------------------------------------------------\u001b[0m",
      "\u001b[0;31mAttributeError\u001b[0m                            Traceback (most recent call last)",
      "\u001b[0;32m<ipython-input-45-3a4586f7c33c>\u001b[0m in \u001b[0;36m<module>\u001b[0;34m()\u001b[0m\n\u001b[0;32m----> 1\u001b[0;31m \u001b[0mtraining_info\u001b[0m\u001b[0;34m[\u001b[0m\u001b[0;34m'recipients'\u001b[0m\u001b[0;34m]\u001b[0m\u001b[0;34m[\u001b[0m\u001b[0;36m1\u001b[0m\u001b[0;34m]\u001b[0m\u001b[0;34m.\u001b[0m\u001b[0mtolist\u001b[0m\u001b[0;34m(\u001b[0m\u001b[0;34m)\u001b[0m\u001b[0;34m\u001b[0m\u001b[0m\n\u001b[0m",
      "\u001b[0;31mAttributeError\u001b[0m: 'str' object has no attribute 'tolist'"
     ]
    }
   ],
   "source": [
    "training_info['recipients'][1].tolist()"
   ]
  },
  {
   "cell_type": "code",
   "execution_count": 46,
   "metadata": {
    "collapsed": true
   },
   "outputs": [],
   "source": [
    "test = pd.read_csv('test_set.csv', sep=',', header=0)"
   ]
  },
  {
   "cell_type": "code",
   "execution_count": 47,
   "metadata": {
    "collapsed": false
   },
   "outputs": [
    {
     "data": {
      "text/html": [
       "<div>\n",
       "<table border=\"1\" class=\"dataframe\">\n",
       "  <thead>\n",
       "    <tr style=\"text-align: right;\">\n",
       "      <th></th>\n",
       "      <th>sender</th>\n",
       "      <th>mids</th>\n",
       "    </tr>\n",
       "  </thead>\n",
       "  <tbody>\n",
       "    <tr>\n",
       "      <th>0</th>\n",
       "      <td>karen.buckley@enron.com</td>\n",
       "      <td>298389 332383 298390 284071 366982 81773 81791...</td>\n",
       "    </tr>\n",
       "    <tr>\n",
       "      <th>1</th>\n",
       "      <td>amr.ibrahim@enron.com</td>\n",
       "      <td>48260 48465 50344 48268 50330 48237 189979 189...</td>\n",
       "    </tr>\n",
       "    <tr>\n",
       "      <th>2</th>\n",
       "      <td>andrea.ring@enron.com</td>\n",
       "      <td>366364 271168 271172 271167 271189</td>\n",
       "    </tr>\n",
       "    <tr>\n",
       "      <th>3</th>\n",
       "      <td>sylvia.hu@enron.com</td>\n",
       "      <td>134931 134856 233549 233517 134895 233584 3736...</td>\n",
       "    </tr>\n",
       "    <tr>\n",
       "      <th>4</th>\n",
       "      <td>phillip.platter@enron.com</td>\n",
       "      <td>274220 274225 274215 274223 274214 274207 2742...</td>\n",
       "    </tr>\n",
       "  </tbody>\n",
       "</table>\n",
       "</div>"
      ],
      "text/plain": [
       "                      sender  \\\n",
       "0    karen.buckley@enron.com   \n",
       "1      amr.ibrahim@enron.com   \n",
       "2      andrea.ring@enron.com   \n",
       "3        sylvia.hu@enron.com   \n",
       "4  phillip.platter@enron.com   \n",
       "\n",
       "                                                mids  \n",
       "0  298389 332383 298390 284071 366982 81773 81791...  \n",
       "1  48260 48465 50344 48268 50330 48237 189979 189...  \n",
       "2                 366364 271168 271172 271167 271189  \n",
       "3  134931 134856 233549 233517 134895 233584 3736...  \n",
       "4  274220 274225 274215 274223 274214 274207 2742...  "
      ]
     },
     "execution_count": 47,
     "metadata": {},
     "output_type": "execute_result"
    }
   ],
   "source": [
    "test.head()"
   ]
  },
  {
   "cell_type": "code",
   "execution_count": null,
   "metadata": {
    "collapsed": true
   },
   "outputs": [],
   "source": []
  }
 ],
 "metadata": {
  "anaconda-cloud": {},
  "kernelspec": {
   "display_name": "Python [conda root]",
   "language": "python",
   "name": "conda-root-py"
  },
  "language_info": {
   "codemirror_mode": {
    "name": "ipython",
    "version": 2
   },
   "file_extension": ".py",
   "mimetype": "text/x-python",
   "name": "python",
   "nbconvert_exporter": "python",
   "pygments_lexer": "ipython2",
   "version": "2.7.12"
  }
 },
 "nbformat": 4,
 "nbformat_minor": 1
}
