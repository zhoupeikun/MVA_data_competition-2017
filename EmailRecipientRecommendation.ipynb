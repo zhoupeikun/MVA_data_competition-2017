{
 "cells": [
  {
   "cell_type": "markdown",
   "metadata": {
    "collapsed": true
   },
   "source": [
    "<h1>Email recipient recommendation"
   ]
  },
  {
   "cell_type": "markdown",
   "metadata": {},
   "source": [
    "<p>Team: Daft.py\n",
    "<p>ZHENG Chengyi, TIAN Yu, ZHOU Peikun"
   ]
  },
  {
   "cell_type": "markdown",
   "metadata": {},
   "source": [
    "<h3>Import the package required"
   ]
  },
  {
   "cell_type": "code",
   "execution_count": 44,
   "metadata": {
    "collapsed": true
   },
   "outputs": [],
   "source": [
    "import pandas as pd\n",
    "import matplotlib.pyplot as plt\n",
    "import re\n",
    "import numpy\n",
    "import pylab\n",
    "from collections import Counter\n",
    "from nltk.stem.snowball import SnowballStemmer\n",
    "from nltk.corpus import stopwords\n",
    "from sklearn.feature_extraction.text import TfidfVectorizer\n",
    "from scipy import spatial\n",
    "from pylab import rcParams\n",
    "import pickle\n",
    "from sklearn.metrics.pairwise import cosine_similarity as c_s\n",
    "import operator\n",
    "import math\n",
    "import os\n",
    "\n",
    "\n",
    "rcParams['figure.figsize'] = 20, 5"
   ]
  },
  {
   "cell_type": "markdown",
   "metadata": {},
   "source": [
    "<h2>Data Cleansing"
   ]
  },
  {
   "cell_type": "markdown",
   "metadata": {},
   "source": [
    "Functions"
   ]
  },
  {
   "cell_type": "code",
   "execution_count": 3,
   "metadata": {
    "collapsed": true
   },
   "outputs": [],
   "source": [
    "def check_info_set(info_filename,set_filename):\n",
    "    training_info = pd.read_csv(info_filename, sep=',', header=0)\n",
    "    training = pd.read_csv(set_filename, sep=',', header=0)\n",
    "\n",
    "    mailIds2 = []\n",
    "    for mails in training['mids'].tolist():\n",
    "        mails = mails.split(' ')\n",
    "        mailIds2.append(mails)\n",
    "    print \"%d senders,correct!\"%len(mailIds2) if len(mailIds2)==125 else \"Sender(s) missing\"\n",
    "\n",
    "    mailIds2 = [int(mail) for sublist in mailIds2 for mail in sublist]\n",
    "\n",
    "    print \"There are %d mails in training_set\"%len(mailIds2)\n",
    "\n",
    "    print \"There are %d mails in training_info\"%len(training_info['mid'].tolist())\n",
    "\n",
    "    print \"Checked, they are in Bijection\" if set(mailIds2)==set(training_info['mid'].tolist()) else \"Not the same\""
   ]
  },
  {
   "cell_type": "code",
   "execution_count": 38,
   "metadata": {
    "collapsed": true
   },
   "outputs": [],
   "source": [
    "def count_by_date(training_info):\n",
    "    training_info.date = training_info.date.astype(\"datetime64[ns]\")\n",
    "    training_info['date'].groupby([training_info.date.dt.year,training_info.date.dt.month]).count().plot.bar()\n",
    "    plt.show()"
   ]
  },
  {
   "cell_type": "markdown",
   "metadata": {},
   "source": [
    "check Dateset"
   ]
  },
  {
   "cell_type": "code",
   "execution_count": 5,
   "metadata": {
    "collapsed": false
   },
   "outputs": [
    {
     "name": "stdout",
     "output_type": "stream",
     "text": [
      "125 senders,correct!\n",
      "There are 43613 mails in training_set\n",
      "There are 43613 mails in training_info\n",
      "Checked, they are in Bijection\n"
     ]
    }
   ],
   "source": [
    "info_filename = '../data/training_info.csv'\n",
    "set_filename = '../data/training_set.csv'\n",
    "check_info_set(info_filename, set_filename)"
   ]
  },
  {
   "cell_type": "markdown",
   "metadata": {},
   "source": [
    "Merge train_info and train_set"
   ]
  },
  {
   "cell_type": "code",
   "execution_count": 6,
   "metadata": {
    "collapsed": false
   },
   "outputs": [
    {
     "data": {
      "text/html": [
       "<div>\n",
       "<table border=\"1\" class=\"dataframe\">\n",
       "  <thead>\n",
       "    <tr style=\"text-align: right;\">\n",
       "      <th></th>\n",
       "      <th>mid</th>\n",
       "      <th>sender</th>\n",
       "      <th>date</th>\n",
       "      <th>body</th>\n",
       "      <th>recipients</th>\n",
       "    </tr>\n",
       "  </thead>\n",
       "  <tbody>\n",
       "    <tr>\n",
       "      <th>43279</th>\n",
       "      <td>47361</td>\n",
       "      <td>enron_update@concureworkplace.com</td>\n",
       "      <td>0001-08-26 22:16:36</td>\n",
       "      <td>The following reports have been waiting for yo...</td>\n",
       "      <td>kimberly.watson@enron.com</td>\n",
       "    </tr>\n",
       "    <tr>\n",
       "      <th>43280</th>\n",
       "      <td>47362</td>\n",
       "      <td>enron_update@concureworkplace.com</td>\n",
       "      <td>0001-08-27 22:21:02</td>\n",
       "      <td>The following reports have been waiting for yo...</td>\n",
       "      <td>kimberly.watson@enron.com</td>\n",
       "    </tr>\n",
       "    <tr>\n",
       "      <th>43281</th>\n",
       "      <td>47363</td>\n",
       "      <td>enron_update@concureworkplace.com</td>\n",
       "      <td>0001-08-28 22:25:35</td>\n",
       "      <td>The following reports have been waiting for yo...</td>\n",
       "      <td>kimberly.watson@enron.com</td>\n",
       "    </tr>\n",
       "    <tr>\n",
       "      <th>43282</th>\n",
       "      <td>45909</td>\n",
       "      <td>enron_update@concureworkplace.com</td>\n",
       "      <td>0001-09-13 22:24:08</td>\n",
       "      <td>Employee Name: Kimberly WatsonReport Name:   E...</td>\n",
       "      <td>kimberly.watson@enron.com</td>\n",
       "    </tr>\n",
       "    <tr>\n",
       "      <th>43283</th>\n",
       "      <td>82030</td>\n",
       "      <td>enron_update@concureworkplace.com</td>\n",
       "      <td>0001-09-17 09:24:00</td>\n",
       "      <td>The following expense report is ready for appr...</td>\n",
       "      <td>barry.tycholiz@enron.com</td>\n",
       "    </tr>\n",
       "  </tbody>\n",
       "</table>\n",
       "</div>"
      ],
      "text/plain": [
       "         mid                             sender                 date  \\\n",
       "43279  47361  enron_update@concureworkplace.com  0001-08-26 22:16:36   \n",
       "43280  47362  enron_update@concureworkplace.com  0001-08-27 22:21:02   \n",
       "43281  47363  enron_update@concureworkplace.com  0001-08-28 22:25:35   \n",
       "43282  45909  enron_update@concureworkplace.com  0001-09-13 22:24:08   \n",
       "43283  82030  enron_update@concureworkplace.com  0001-09-17 09:24:00   \n",
       "\n",
       "                                                    body  \\\n",
       "43279  The following reports have been waiting for yo...   \n",
       "43280  The following reports have been waiting for yo...   \n",
       "43281  The following reports have been waiting for yo...   \n",
       "43282  Employee Name: Kimberly WatsonReport Name:   E...   \n",
       "43283  The following expense report is ready for appr...   \n",
       "\n",
       "                      recipients  \n",
       "43279  kimberly.watson@enron.com  \n",
       "43280  kimberly.watson@enron.com  \n",
       "43281  kimberly.watson@enron.com  \n",
       "43282  kimberly.watson@enron.com  \n",
       "43283   barry.tycholiz@enron.com  "
      ]
     },
     "execution_count": 6,
     "metadata": {},
     "output_type": "execute_result"
    }
   ],
   "source": [
    "training = pd.read_csv(set_filename, sep=',', header=0)\n",
    "list_sender = []\n",
    "list_mid = []\n",
    "\n",
    "for index,serie in training.iterrows():\n",
    "    row = serie.tolist()\n",
    "    sender = row[0]\n",
    "    ids = row[1].split(\" \")\n",
    "    ids = [int(x) for x in ids]\n",
    "    for mid in ids:\n",
    "        list_sender.append(sender)\n",
    "        list_mid.append(mid)\n",
    "\n",
    "merged_train = pd.DataFrame({\"sender\":list_sender, \"mid\":list_mid})\n",
    "\n",
    "training_info = pd.read_csv(info_filename, sep=',', header=0)\n",
    "\n",
    "merged_train = pd.merge(merged_train,training_info)\n",
    "merged_train = merged_train.sort_values(by='date',ascending=True)\n",
    "\n",
    "merged_train.mid = merged_train.mid.astype(int)\n",
    "\n",
    "merged_train.head()"
   ]
  },
  {
   "cell_type": "markdown",
   "metadata": {},
   "source": [
    "Data distribution"
   ]
  },
  {
   "cell_type": "code",
   "execution_count": 9,
   "metadata": {
    "collapsed": false
   },
   "outputs": [
    {
     "data": {
      "image/png": "[encoded data removed]",
      "text/plain": [
       "<matplotlib.figure.Figure at 0x115a3d890>"
      ]
     },
     "metadata": {},
     "output_type": "display_data"
    }
   ],
   "source": [
    "# merged_filename = '../data/merged_data/merged_train.csv'\n",
    "count_by_date(merged_train)"
   ]
  },
  {
   "cell_type": "markdown",
   "metadata": {},
   "source": [
    "Remove mails with wrong date"
   ]
  },
  {
   "cell_type": "code",
   "execution_count": 10,
   "metadata": {
    "collapsed": false
   },
   "outputs": [
    {
     "name": "stdout",
     "output_type": "stream",
     "text": [
      "Counter({numpy.datetime64('1755'): 202})\n"
     ]
    }
   ],
   "source": [
    "day = numpy.datetime64('1998-01-01').astype(\"datetime64[ns]\")\n",
    "weird_date = merged_train[merged_train.date.astype(\"datetime64[ns]\") < day]['date'].tolist()\n",
    "weird_date = [numpy.datetime64(x).astype(\"datetime64[Y]\") for x in weird_date]\n",
    "print Counter(weird_date)"
   ]
  },
  {
   "cell_type": "code",
   "execution_count": 11,
   "metadata": {
    "collapsed": false
   },
   "outputs": [
    {
     "data": {
      "text/html": [
       "<div>\n",
       "<table border=\"1\" class=\"dataframe\">\n",
       "  <thead>\n",
       "    <tr style=\"text-align: right;\">\n",
       "      <th></th>\n",
       "      <th>mid</th>\n",
       "      <th>sender</th>\n",
       "      <th>date</th>\n",
       "      <th>body</th>\n",
       "      <th>recipients</th>\n",
       "    </tr>\n",
       "  </thead>\n",
       "  <tbody>\n",
       "    <tr>\n",
       "      <th>21189</th>\n",
       "      <td>9716</td>\n",
       "      <td>michelle.cash@enron.com</td>\n",
       "      <td>1998-12-21 05:29:00</td>\n",
       "      <td>Brent,Attached is a form indemnification agree...</td>\n",
       "      <td>brent.hendry@enron.com mark.e.taylor@enron.com</td>\n",
       "    </tr>\n",
       "    <tr>\n",
       "      <th>38268</th>\n",
       "      <td>7830</td>\n",
       "      <td>christian.yoder@enron.com</td>\n",
       "      <td>1999-03-02 07:30:00</td>\n",
       "      <td>As you are already aware,  the West desk is ma...</td>\n",
       "      <td>elizabeth.sager@enron.com mark.e.taylor@enron....</td>\n",
       "    </tr>\n",
       "    <tr>\n",
       "      <th>8695</th>\n",
       "      <td>90523</td>\n",
       "      <td>larry.f.campbell@enron.com</td>\n",
       "      <td>1999-05-03 09:44:00</td>\n",
       "      <td>Go for it!George Robinson04/27/99 04:14 PMTo: ...</td>\n",
       "      <td>butch.russell@enron.com george.robinson@enron.com</td>\n",
       "    </tr>\n",
       "    <tr>\n",
       "      <th>8696</th>\n",
       "      <td>89475</td>\n",
       "      <td>larry.f.campbell@enron.com</td>\n",
       "      <td>1999-05-05 05:27:00</td>\n",
       "      <td>Just a short message to apprise everyone of th...</td>\n",
       "      <td>william.kendrick@enron.com rick.cates@enron.co...</td>\n",
       "    </tr>\n",
       "    <tr>\n",
       "      <th>8697</th>\n",
       "      <td>89618</td>\n",
       "      <td>larry.f.campbell@enron.com</td>\n",
       "      <td>1999-05-05 05:27:00</td>\n",
       "      <td>Just a short message to apprise everyone of th...</td>\n",
       "      <td>william.kendrick@enron.com rick.cates@enron.co...</td>\n",
       "    </tr>\n",
       "  </tbody>\n",
       "</table>\n",
       "</div>"
      ],
      "text/plain": [
       "         mid                      sender                date  \\\n",
       "21189   9716     michelle.cash@enron.com 1998-12-21 05:29:00   \n",
       "38268   7830   christian.yoder@enron.com 1999-03-02 07:30:00   \n",
       "8695   90523  larry.f.campbell@enron.com 1999-05-03 09:44:00   \n",
       "8696   89475  larry.f.campbell@enron.com 1999-05-05 05:27:00   \n",
       "8697   89618  larry.f.campbell@enron.com 1999-05-05 05:27:00   \n",
       "\n",
       "                                                    body  \\\n",
       "21189  Brent,Attached is a form indemnification agree...   \n",
       "38268  As you are already aware,  the West desk is ma...   \n",
       "8695   Go for it!George Robinson04/27/99 04:14 PMTo: ...   \n",
       "8696   Just a short message to apprise everyone of th...   \n",
       "8697   Just a short message to apprise everyone of th...   \n",
       "\n",
       "                                              recipients  \n",
       "21189     brent.hendry@enron.com mark.e.taylor@enron.com  \n",
       "38268  elizabeth.sager@enron.com mark.e.taylor@enron....  \n",
       "8695   butch.russell@enron.com george.robinson@enron.com  \n",
       "8696   william.kendrick@enron.com rick.cates@enron.co...  \n",
       "8697   william.kendrick@enron.com rick.cates@enron.co...  "
      ]
     },
     "execution_count": 11,
     "metadata": {},
     "output_type": "execute_result"
    }
   ],
   "source": [
    "merged_train = merged_train[merged_train.date.astype(\"datetime64[ns]\") > day]\n",
    "merged_train.head()"
   ]
  },
  {
   "cell_type": "markdown",
   "metadata": {},
   "source": [
    "Remove the recipients without '@'"
   ]
  },
  {
   "cell_type": "code",
   "execution_count": 12,
   "metadata": {
    "collapsed": true
   },
   "outputs": [],
   "source": [
    "for index,serie in merged_train.iterrows():\n",
    "    row = serie.tolist()\n",
    "    recipients = row[4].split(\" \")\n",
    "    recipients = [x for x in recipients if '@' in x]\n",
    "    recipients = \" \".join(recipients)\n",
    "    merged_train.set_value(index,'recipients',recipients)"
   ]
  },
  {
   "cell_type": "markdown",
   "metadata": {},
   "source": [
    "Distribution of recipient numbers"
   ]
  },
  {
   "cell_type": "code",
   "execution_count": 55,
   "metadata": {
    "collapsed": false
   },
   "outputs": [
    {
     "data": {
      "image/png": "[encoded data removed]",
      "text/plain": [
       "<matplotlib.figure.Figure at 0x1286bd310>"
      ]
     },
     "metadata": {},
     "output_type": "display_data"
    }
   ],
   "source": [
    "num_rec = []\n",
    "for recs in merged_train.recipients:\n",
    "    num_rec.append(len(recs.split(' ')))\n",
    "    \n",
    "labels, values = zip(*Counter(num_rec).items())\n",
    "# values = [math.log(x) for x in values]\n",
    "indexes = numpy.arange(len(labels))\n",
    "plt.plot(indexes, [math.log(x) for x in values])\n",
    "plt.show()"
   ]
  },
  {
   "cell_type": "markdown",
   "metadata": {},
   "source": [
    "Remove the mails noisy -- remove those mails who has more than 100 recipients"
   ]
  },
  {
   "cell_type": "code",
   "execution_count": 15,
   "metadata": {
    "collapsed": true
   },
   "outputs": [],
   "source": [
    "to_retain = []\n",
    "for index,serie in merged_train.iterrows():\n",
    "    row = serie.tolist()\n",
    "    mid = row[0]\n",
    "    recipients = row[4]\n",
    "    if 0< len(recipients.split(\" \")) <=100:\n",
    "        to_retain.append(mid)\n",
    "        \n",
    "merged_train = merged_train[merged_train.mid.isin(to_retain)]"
   ]
  },
  {
   "cell_type": "markdown",
   "metadata": {},
   "source": [
    "Recheck the number of recipients"
   ]
  },
  {
   "cell_type": "code",
   "execution_count": 16,
   "metadata": {
    "collapsed": false
   },
   "outputs": [
    {
     "data": {
      "image/png": "[encoded data removed]",
      "text/plain": [
       "<matplotlib.figure.Figure at 0x11376b890>"
      ]
     },
     "metadata": {},
     "output_type": "display_data"
    }
   ],
   "source": [
    "num_rec = []\n",
    "for recs in merged_train.recipients:\n",
    "    num_rec.append(len(recs.split(' ')))\n",
    "labels, values = zip(*Counter(num_rec).items())\n",
    "indexes = numpy.arange(len(labels))\n",
    "plt.bar(indexes, values,1)\n",
    "plt.show()"
   ]
  },
  {
   "cell_type": "code",
   "execution_count": 19,
   "metadata": {
    "collapsed": true
   },
   "outputs": [],
   "source": [
    "merged_train.to_csv('../data/merged_data/merged_train.csv',index=False)"
   ]
  },
  {
   "cell_type": "markdown",
   "metadata": {},
   "source": [
    "Merge test data by the same way as train"
   ]
  },
  {
   "cell_type": "code",
   "execution_count": 17,
   "metadata": {
    "collapsed": false
   },
   "outputs": [
    {
     "name": "stdout",
     "output_type": "stream",
     "text": [
      "125 senders,correct!\n",
      "There are 2362 mails in training_set\n",
      "There are 2362 mails in training_info\n",
      "Checked, they are in Bijection\n"
     ]
    }
   ],
   "source": [
    "info_filename = '../data/test_info.csv'\n",
    "set_filename = '../data/test_set.csv'\n",
    "check_info_set(info_filename, set_filename)"
   ]
  },
  {
   "cell_type": "code",
   "execution_count": 18,
   "metadata": {
    "collapsed": true
   },
   "outputs": [],
   "source": [
    "test_set_filename = '../data/test_set.csv'\n",
    "test = pd.read_csv(test_set_filename, sep=',', header=0)\n",
    "\n",
    "list_sender = []\n",
    "list_mid = []\n",
    "\n",
    "for index,serie in test.iterrows():\n",
    "    row = serie.tolist()\n",
    "    sender = row[0]\n",
    "    ids = row[1].split(\" \")\n",
    "    ids = [int(x) for x in ids]\n",
    "    for mid in ids:\n",
    "        list_sender.append(sender)\n",
    "        list_mid.append(int(mid))\n",
    "\n",
    "merged_test = pd.DataFrame({\"sender\":list_sender, \"mid\":list_mid})\n",
    "\n",
    "test_info_filename = '../data/test_info.csv'\n",
    "test_info = pd.read_csv(test_info_filename, sep=',', header=0)\n",
    "\n",
    "merged_test = pd.merge(merged_test,test_info)\n",
    "merged_test = merged_test.sort_values(by='date',ascending=True)\n",
    "merged_train.mid = merged_train.mid.astype(int)\n",
    "merged_test.to_csv('../data/merged_data/merged_test.csv',index=False)"
   ]
  },
  {
   "cell_type": "markdown",
   "metadata": {},
   "source": [
    "<h2>Text Preprocessing"
   ]
  },
  {
   "cell_type": "markdown",
   "metadata": {},
   "source": [
    "Functions"
   ]
  },
  {
   "cell_type": "code",
   "execution_count": 21,
   "metadata": {
    "collapsed": true
   },
   "outputs": [],
   "source": [
    "def CleanStw(text):\n",
    "    from nltk.corpus import stopwords\n",
    "    import re\n",
    "    StpWds = stopwords.words('english')\n",
    "    text = ' '.join([word for word in re.sub('\\W|_',' ',text).lower().split() if word not in StpWds])\n",
    "    return text\n",
    "def Stemming(text):\n",
    "    from nltk.stem.snowball import SnowballStemmer\n",
    "    stemmer = SnowballStemmer(\"english\")\n",
    "    text = ' '.join([stemmer.stem(word) for word in text.split(\" \")])\n",
    "    return text\n",
    "def textClean(text):\n",
    "    import re\n",
    "    text = Stemming(CleanStw(re.sub(\"\\d\",\"\",text)))\n",
    "    return text if not text=='' else '0'"
   ]
  },
  {
   "cell_type": "markdown",
   "metadata": {},
   "source": [
    "Clean all the mail text before the computation to speed it up"
   ]
  },
  {
   "cell_type": "code",
   "execution_count": 22,
   "metadata": {
    "collapsed": true
   },
   "outputs": [],
   "source": [
    "merged_train_filename = '../data/merged_data/merged_train.csv'\n",
    "merged_train = pd.read_csv(merged_train_filename, sep=',', header = 0)\n",
    "\n",
    "for index,seris in merged_train.iterrows():\n",
    "    row = seris.tolist()\n",
    "    body = row[3]\n",
    "    body = textClean(body)\n",
    "    merged_train.set_value(index,'body',body)\n",
    "    \n",
    "merged_train['body'].fillna('0', inplace=True)"
   ]
  },
  {
   "cell_type": "code",
   "execution_count": 23,
   "metadata": {
    "collapsed": false
   },
   "outputs": [
    {
     "data": {
      "text/html": [
       "<div>\n",
       "<table border=\"1\" class=\"dataframe\">\n",
       "  <thead>\n",
       "    <tr style=\"text-align: right;\">\n",
       "      <th></th>\n",
       "      <th>mid</th>\n",
       "      <th>sender</th>\n",
       "      <th>date</th>\n",
       "      <th>body</th>\n",
       "      <th>recipients</th>\n",
       "    </tr>\n",
       "  </thead>\n",
       "  <tbody>\n",
       "    <tr>\n",
       "      <th>0</th>\n",
       "      <td>9716</td>\n",
       "      <td>michelle.cash@enron.com</td>\n",
       "      <td>1998-12-21 05:29:00</td>\n",
       "      <td>brent attach form indemnif agreement approv us...</td>\n",
       "      <td>brent.hendry@enron.com mark.e.taylor@enron.com</td>\n",
       "    </tr>\n",
       "    <tr>\n",
       "      <th>1</th>\n",
       "      <td>7830</td>\n",
       "      <td>christian.yoder@enron.com</td>\n",
       "      <td>1999-03-02 07:30:00</td>\n",
       "      <td>alreadi awar west desk make effort introduc fi...</td>\n",
       "      <td>elizabeth.sager@enron.com mark.e.taylor@enron....</td>\n",
       "    </tr>\n",
       "    <tr>\n",
       "      <th>2</th>\n",
       "      <td>90523</td>\n",
       "      <td>larry.f.campbell@enron.com</td>\n",
       "      <td>1999-05-03 09:44:00</td>\n",
       "      <td>go georg robinson pmto larri campbel et enron ...</td>\n",
       "      <td>butch.russell@enron.com george.robinson@enron.com</td>\n",
       "    </tr>\n",
       "    <tr>\n",
       "      <th>3</th>\n",
       "      <td>89475</td>\n",
       "      <td>larry.f.campbell@enron.com</td>\n",
       "      <td>1999-05-05 05:27:00</td>\n",
       "      <td>short messag appris everyon clean result perfo...</td>\n",
       "      <td>william.kendrick@enron.com rick.cates@enron.co...</td>\n",
       "    </tr>\n",
       "    <tr>\n",
       "      <th>4</th>\n",
       "      <td>89618</td>\n",
       "      <td>larry.f.campbell@enron.com</td>\n",
       "      <td>1999-05-05 05:27:00</td>\n",
       "      <td>short messag appris everyon clean result perfo...</td>\n",
       "      <td>william.kendrick@enron.com rick.cates@enron.co...</td>\n",
       "    </tr>\n",
       "  </tbody>\n",
       "</table>\n",
       "</div>"
      ],
      "text/plain": [
       "     mid                      sender                 date  \\\n",
       "0   9716     michelle.cash@enron.com  1998-12-21 05:29:00   \n",
       "1   7830   christian.yoder@enron.com  1999-03-02 07:30:00   \n",
       "2  90523  larry.f.campbell@enron.com  1999-05-03 09:44:00   \n",
       "3  89475  larry.f.campbell@enron.com  1999-05-05 05:27:00   \n",
       "4  89618  larry.f.campbell@enron.com  1999-05-05 05:27:00   \n",
       "\n",
       "                                                body  \\\n",
       "0  brent attach form indemnif agreement approv us...   \n",
       "1  alreadi awar west desk make effort introduc fi...   \n",
       "2  go georg robinson pmto larri campbel et enron ...   \n",
       "3  short messag appris everyon clean result perfo...   \n",
       "4  short messag appris everyon clean result perfo...   \n",
       "\n",
       "                                          recipients  \n",
       "0     brent.hendry@enron.com mark.e.taylor@enron.com  \n",
       "1  elizabeth.sager@enron.com mark.e.taylor@enron....  \n",
       "2  butch.russell@enron.com george.robinson@enron.com  \n",
       "3  william.kendrick@enron.com rick.cates@enron.co...  \n",
       "4  william.kendrick@enron.com rick.cates@enron.co...  "
      ]
     },
     "execution_count": 23,
     "metadata": {},
     "output_type": "execute_result"
    }
   ],
   "source": [
    "merged_train.head()"
   ]
  },
  {
   "cell_type": "code",
   "execution_count": 24,
   "metadata": {
    "collapsed": true
   },
   "outputs": [],
   "source": [
    "merged_test_filename = '../data/merged_data/merged_test.csv'\n",
    "merged_test = pd.read_csv(merged_test_filename, sep=',', header = 0)\n",
    "\n",
    "for index,seris in merged_test.iterrows():\n",
    "    row = seris.tolist()\n",
    "    body = row[3]\n",
    "    body = textClean(body)\n",
    "    merged_test.set_value(index,'body',body)\n",
    "    \n",
    "merged_test['body'].fillna(\"0\", inplace=True)\n",
    "\n"
   ]
  },
  {
   "cell_type": "code",
   "execution_count": 25,
   "metadata": {
    "collapsed": false
   },
   "outputs": [
    {
     "data": {
      "text/html": [
       "<div>\n",
       "<table border=\"1\" class=\"dataframe\">\n",
       "  <thead>\n",
       "    <tr style=\"text-align: right;\">\n",
       "      <th></th>\n",
       "      <th>mid</th>\n",
       "      <th>sender</th>\n",
       "      <th>date</th>\n",
       "      <th>body</th>\n",
       "    </tr>\n",
       "  </thead>\n",
       "  <tbody>\n",
       "    <tr>\n",
       "      <th>0</th>\n",
       "      <td>284098</td>\n",
       "      <td>jonathan.mckay@enron.com</td>\n",
       "      <td>2001-11-02 05:25:29</td>\n",
       "      <td>everyon mother child father hope everyth went ...</td>\n",
       "    </tr>\n",
       "    <tr>\n",
       "      <th>1</th>\n",
       "      <td>272008</td>\n",
       "      <td>dutch.quigley@enron.com</td>\n",
       "      <td>2001-11-02 05:34:55</td>\n",
       "      <td>origin messag wesner soong sarah sent thursday...</td>\n",
       "    </tr>\n",
       "    <tr>\n",
       "      <th>2</th>\n",
       "      <td>49273</td>\n",
       "      <td>james.d.steffes@enron.com</td>\n",
       "      <td>2001-11-02 05:57:55</td>\n",
       "      <td>janin ok cover whole countri forgotten discuss...</td>\n",
       "    </tr>\n",
       "    <tr>\n",
       "      <th>3</th>\n",
       "      <td>71901</td>\n",
       "      <td>kim.ward@enron.com</td>\n",
       "      <td>2001-11-02 06:10:47</td>\n",
       "      <td>0</td>\n",
       "    </tr>\n",
       "    <tr>\n",
       "      <th>4</th>\n",
       "      <td>82354</td>\n",
       "      <td>barry.tycholiz@enron.com</td>\n",
       "      <td>2001-11-02 06:17:44</td>\n",
       "      <td>wow posit beauti wife sign haul three rug rat ...</td>\n",
       "    </tr>\n",
       "  </tbody>\n",
       "</table>\n",
       "</div>"
      ],
      "text/plain": [
       "      mid                     sender                 date  \\\n",
       "0  284098   jonathan.mckay@enron.com  2001-11-02 05:25:29   \n",
       "1  272008    dutch.quigley@enron.com  2001-11-02 05:34:55   \n",
       "2   49273  james.d.steffes@enron.com  2001-11-02 05:57:55   \n",
       "3   71901         kim.ward@enron.com  2001-11-02 06:10:47   \n",
       "4   82354   barry.tycholiz@enron.com  2001-11-02 06:17:44   \n",
       "\n",
       "                                                body  \n",
       "0  everyon mother child father hope everyth went ...  \n",
       "1  origin messag wesner soong sarah sent thursday...  \n",
       "2  janin ok cover whole countri forgotten discuss...  \n",
       "3                                                  0  \n",
       "4  wow posit beauti wife sign haul three rug rat ...  "
      ]
     },
     "execution_count": 25,
     "metadata": {},
     "output_type": "execute_result"
    }
   ],
   "source": [
    "merged_test.head()"
   ]
  },
  {
   "cell_type": "code",
   "execution_count": 26,
   "metadata": {
    "collapsed": true
   },
   "outputs": [],
   "source": [
    "merged_train.to_csv('../data/merged_data/merged_train_textClean.csv',index=False)\n",
    "merged_test.to_csv('../data/merged_data/merged_test_textClean.csv',index=False)"
   ]
  },
  {
   "cell_type": "markdown",
   "metadata": {},
   "source": [
    "<h2>Ranking"
   ]
  },
  {
   "cell_type": "markdown",
   "metadata": {},
   "source": [
    "<p> Fit a TfidfVectorizer and save it"
   ]
  },
  {
   "cell_type": "code",
   "execution_count": 28,
   "metadata": {
    "collapsed": true
   },
   "outputs": [],
   "source": [
    "merged_train = pd.read_csv('../data/merged_data/merged_train_textClean.csv', sep=',', header=0)\n",
    "Tfidf = TfidfVectorizer()\n",
    "Tfidf.fit(merged_train.body.tolist())\n",
    "pickle.dump(Tfidf, open(\"../data/merged_data/Tfidfvectorizer.pickle\", \"wb\"))"
   ]
  },
  {
   "cell_type": "markdown",
   "metadata": {},
   "source": [
    "Functions"
   ]
  },
  {
   "cell_type": "code",
   "execution_count": 35,
   "metadata": {
    "collapsed": true
   },
   "outputs": [],
   "source": [
    "def get_emails_ids_per_sender(training):\n",
    "    sender_list = list(set(training.sender.tolist()))\n",
    "    emails_ids_per_sender = {}    \n",
    "    for s in sender_list:\n",
    "        emails_ids_per_sender[s] = [int(x) for x in training[training.sender==s]['mid'].tolist()]\n",
    "    return emails_ids_per_sender"
   ]
  },
  {
   "cell_type": "code",
   "execution_count": 29,
   "metadata": {
    "collapsed": true
   },
   "outputs": [],
   "source": [
    "def rcy(t_new,t_m):\n",
    "    t_new = np.datetime64(t_new).astype('datetime64[D]')\n",
    "    t_m = np.datetime64(t_m).astype('datetime64[D]')\n",
    "    d = (t_new - t_m).astype(float) + 1.0\n",
    "    return round(d**(-1.5),10) if 0<d<365 else 0"
   ]
  },
  {
   "cell_type": "code",
   "execution_count": 30,
   "metadata": {
    "collapsed": true
   },
   "outputs": [],
   "source": [
    "def rk(score_dic):\n",
    "    return {key: rank for rank, key in enumerate(sorted(score_dic, key=score_dic.get, reverse=True), 1)}\n",
    "\n",
    "def Rank_all(rank_r, rank_c, alpha=0.6):\n",
    "    rank = {}\n",
    "    for k in rank_r.iterkeys():\n",
    "        r_r = alpha/rank_r[k] if rank_r.get(k,0)!=0 else 0\n",
    "        r_c = (1-alpha)/rank_c[k] if rank_c.get(k,0)!=0 else 0\n",
    "        rank[k] = r_r + r_c\n",
    "    sorted_rank = [x[0] for x in sorted(rank.items(), key=operator.itemgetter(1),reverse=True)]        \n",
    "    return sorted_rank"
   ]
  },
  {
   "cell_type": "code",
   "execution_count": 31,
   "metadata": {
    "collapsed": true
   },
   "outputs": [],
   "source": [
    "def Rcy_rank(new_mail,address_books,contact_books,df):\n",
    "    mid = new_mail[0]\n",
    "    sender = new_mail[1]\n",
    "    t_new = new_mail[2]\n",
    "    b_new = new_mail[3]\n",
    "    \n",
    "    ran = {}\n",
    "\n",
    "    for rec in address_books[sender]:\n",
    "        score = 0\n",
    "        cache = df[df.mid.isin(contact_books[sender][rec])]['date'].tolist()\n",
    "        for d in cache:\n",
    "            r = 6*rcy(t_new,d)\n",
    "            score += r\n",
    "        if contact_books.has_key(rec) and contact_books[rec].has_key(sender):\n",
    "            cache = df[df.mid.isin(contact_books[rec][sender])]['date'].tolist()\n",
    "            for d in cache:\n",
    "                r = rcy(t_new,d)\n",
    "                score += r\n",
    "            \n",
    "        ran[rec] = score\n",
    "    return rk(ran)"
   ]
  },
  {
   "cell_type": "code",
   "execution_count": 32,
   "metadata": {
    "collapsed": true
   },
   "outputs": [],
   "source": [
    "def Cnt_rank(new_mail,address_books,contact_books,df,Tfidf=TfidfVectorizer()):\n",
    "    mid = new_mail[0]\n",
    "    sender = new_mail[1]\n",
    "    t_new = new_mail[2]\n",
    "    b_new = Tfidf.transform([new_mail[3]]).toarray()\n",
    "    ran = {}\n",
    "    \n",
    "    for rec in address_books[sender]:\n",
    "        score = 0\n",
    "        cache = df[df.mid.isin(contact_books[sender][rec])]['body'].tolist()\n",
    "        a_m = Tfidf.transform(cache).toarray()\n",
    "        centroid_out = np.mean(a_m, axis=0).reshape(1,-1)\n",
    "        score = 6*c_s(b_new,centroid_out)\n",
    "        if contact_books.has_key(rec) and contact_books[rec].has_key(sender):\n",
    "            cache = df[df.mid.isin(contact_books[rec][sender])]['body'].tolist()\n",
    "            b_m = Tfidf.transform(cache).toarray()\n",
    "            centroid_in = np.mean(b_m, axis=0).reshape(1,-1)\n",
    "            score += c_s(b_new,centroid_in)\n",
    "\n",
    "        ran[rec] = score\n",
    "    return rk(ran)"
   ]
  },
  {
   "cell_type": "markdown",
   "metadata": {},
   "source": [
    "Some data structures"
   ]
  },
  {
   "cell_type": "code",
   "execution_count": 36,
   "metadata": {
    "collapsed": false
   },
   "outputs": [],
   "source": [
    "tfidf = pickle.load(open(\"../data/merged_data/Tfidfvectorizer.pickle\", \"rb\"))\n",
    "\n",
    "test = pd.read_csv('../data/merged_data/merged_test_textClean.csv', sep=',', header=0)\n",
    "train = pd.read_csv('../data/merged_data/merged_train_textClean.csv', sep=',', header=0)\n",
    "\n",
    "# test = pd.read_csv('../data/merged_data/eva_test.csv', sep=',', header=0)\n",
    "# train = pd.read_csv('../data/merged_data/eva_train.csv', sep=',', header=0)\n",
    "\n",
    "emails_ids_per_sender = get_emails_ids_per_sender(train)\n",
    "all_senders = emails_ids_per_sender.keys()\n",
    "\n",
    "address_books = {}\n",
    "for sender in all_senders:\n",
    "    book = train[train.sender==sender]['recipients'].tolist()\n",
    "    book = [x for subitem in book for x in subitem.split(\" \")]\n",
    "    book = list(set(book))\n",
    "    address_books[sender] = book\n",
    "\n",
    "contact_books = {}\n",
    "for sender in all_senders:\n",
    "    mails = train[train.sender==sender]\n",
    "    book = {}\n",
    "    for rec in address_books[sender]:\n",
    "        rec_mail =mails[mails.recipients.str.contains(rec)]['mid'].tolist()\n",
    "        book[rec] = rec_mail\n",
    "    contact_books[sender] = book"
   ]
  },
  {
   "cell_type": "markdown",
   "metadata": {},
   "source": [
    "make predictions and output to a txt file"
   ]
  },
  {
   "cell_type": "code",
   "execution_count": null,
   "metadata": {
    "collapsed": true
   },
   "outputs": [],
   "source": [
    "with open(\"../results/rcy_cnt_prediction.txt\", 'wb') as my_file:\n",
    "    my_file.write('mid,recipients' + '\\n')\n",
    "    i = 0\n",
    "    for index,serie in test.iterrows():\n",
    "        row = serie.tolist()\n",
    "        mid = str(row[0])\n",
    "        d1 = Rcy_rank(row,address_books,contact_books,train)\n",
    "        d2 = Cnt_rank(row,address_books,contact_books,train,Tfidf=tfidf)\n",
    "        rn = Rank_all(d1,d2)\n",
    "        my_file.write(mid + ',' + ' '.join(rn[:10]) + '\\n')\n",
    "\n",
    "        i += 1\n",
    "        if i%50=0\n",
    "            print i\n",
    "        \n",
    "    my_file.close()"
   ]
  }
 ],
 "metadata": {
  "anaconda-cloud": {},
  "kernelspec": {
   "display_name": "Python [default]",
   "language": "python",
   "name": "python2"
  },
  "language_info": {
   "codemirror_mode": {
    "name": "ipython",
    "version": 2
   },
   "file_extension": ".py",
   "mimetype": "text/x-python",
   "name": "python",
   "nbconvert_exporter": "python",
   "pygments_lexer": "ipython2",
   "version": "2.7.12"
  }
 },
 "nbformat": 4,
 "nbformat_minor": 1
}
